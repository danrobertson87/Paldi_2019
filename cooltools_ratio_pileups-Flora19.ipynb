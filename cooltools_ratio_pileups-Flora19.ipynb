{
 "cells": [
  {
   "cell_type": "markdown",
   "metadata": {
    "toc": "true"
   },
   "source": [
    "# Ratio Pileups"
   ]
  },
  {
   "cell_type": "code",
   "execution_count": null,
   "metadata": {
    "ExecuteTime": {
     "end_time": "2018-12-14T06:07:36.575457Z",
     "start_time": "2018-12-14T06:07:36.232611Z"
    }
   },
   "outputs": [],
   "source": [
    "%matplotlib inline\n",
    "import numpy as np\n",
    "import pandas as pd\n",
    "import matplotlib\n",
    "import matplotlib.gridspec\n",
    "import matplotlib.pyplot as plt\n",
    "import cooler\n",
    "import cooltools\n",
    "from cooltools import snipping\n",
    "import bioframe\n",
    "import bioframe.schemas"
   ]
  },
  {
   "cell_type": "code",
   "execution_count": null,
   "metadata": {},
   "outputs": [],
   "source": [
    "# Inputs\n",
    "\n",
    "# Chromosome sizes file (chrom length)\n",
    "chromsizesfile = 'PATH_TO/chrom.sizes.file'\n",
    "# Sites of interest BED (chrom start end strand)\n",
    "centromeresfile = 'PATH_TO/centromere.bed.file'\n",
    "\n",
    "cool_files = 'PATH_TO_COOL_FILES'\n",
    "\n",
    "shortnames = {\n",
    "    'long_name_A': 'A',\n",
    "    'long_name_B': 'B'\n",
    "}\n",
    "\n",
    "binsize = 1000\n",
    "flank = 100000"
   ]
  },
  {
   "cell_type": "code",
   "execution_count": null,
   "metadata": {
    "ExecuteTime": {
     "end_time": "2018-12-14T06:07:36.579971Z",
     "start_time": "2018-12-14T06:07:36.577118Z"
    }
   },
   "outputs": [],
   "source": [
    "plt.rcParams['pdf.fonttype'] = 'truetype'\n",
    "plt.rcParams['svg.fonttype'] = 'none' # No text as paths. Assume font installed.\n",
    "\n",
    "plt.rcParams['font.serif'] = ['Times New Roman']\n",
    "plt.rcParams['font.sans-serif'] = ['Arial']\n",
    "plt.rcParams['font.family'] = 'sans-serif'\n",
    "plt.rcParams['text.usetex'] = False"
   ]
  },
  {
   "cell_type": "code",
   "execution_count": null,
   "metadata": {},
   "outputs": [],
   "source": [
    "chromsizes = pd.read_table(\n",
    "    chromsizesfile, \n",
    "    header=None,\n",
    "    names=['chrom', 'length'])\n",
    "chromsizes"
   ]
  },
  {
   "cell_type": "code",
   "execution_count": null,
   "metadata": {},
   "outputs": [],
   "source": [
    "# CENs\n",
    "sites = pd.read_table(centromeresfile)\n",
    "sites.head()"
   ]
  },
  {
   "cell_type": "code",
   "execution_count": null,
   "metadata": {
    "ExecuteTime": {
     "end_time": "2018-12-14T06:08:15.690213Z",
     "start_time": "2018-12-14T06:08:15.676626Z"
    }
   },
   "outputs": [],
   "source": [
    "supports = [(chrom[0], 0, chrom[1])\n",
    "            for _, chrom in chromsizes.iterrows()\n",
    "           ]\n",
    "\n",
    "sites['mid'] = (sites['start'] + sites['end']) / 2\n",
    "\n",
    "cens = snipping.make_bin_aligned_windows(\n",
    "    binsize,\n",
    "    sites.chrom.values,\n",
    "    sites.mid.values,\n",
    "    flank\n",
    ")\n",
    "cens['strand'] = sites['strand']\n",
    "cens = snipping.assign_regions(cens, supports)\n",
    "cens = cens.dropna()\n",
    "print(len(cens), 'cen windows, after assigning supports')\n",
    "\n",
    "cens.head()"
   ]
  },
  {
   "cell_type": "code",
   "execution_count": null,
   "metadata": {
    "ExecuteTime": {
     "end_time": "2018-12-14T06:08:19.916965Z",
     "start_time": "2018-12-14T06:08:19.821427Z"
    }
   },
   "outputs": [],
   "source": [
    "cens['dummy'] = 1\n",
    "cen_pairs = pd.merge(cens, cens, how='outer', on='dummy', suffixes=['1','2'])[\n",
    "    ['chrom1', 'start1', 'end1', 'region1', 'chrom2', 'start2', 'end2','region2']]\n",
    "\n",
    "cen_pairs['region'] = list(zip(cen_pairs['region1'].values,\n",
    "                               cen_pairs['region2'].values))\n",
    "\n",
    "cen_pairs.head()\n",
    "print(len(cen_pairs))"
   ]
  },
  {
   "cell_type": "code",
   "execution_count": null,
   "metadata": {},
   "outputs": [],
   "source": [
    "chroms4pileup = [\n",
    "    'chrI',\n",
    "    'chrII',\n",
    "    'chrIII',\n",
    "    'chrIV',\n",
    "    'chrV',\n",
    "    'chrVI',\n",
    "    'chrVII',\n",
    "    'chrVIII',\n",
    "    'chrIX',\n",
    "    'chrX',\n",
    "    'chrXI',\n",
    "    'chrXII',\n",
    "    'chrXIII',\n",
    "    'chrXIV',\n",
    "    'chrXV',\n",
    "    'chrXVI']\n",
    "\n",
    "cis_cen_pairs = cen_pairs[\n",
    "    (cen_pairs.chrom1 == cen_pairs.chrom2)\n",
    "    & cen_pairs.chrom1.isin(chroms4pileup)\n",
    "    & cen_pairs.chrom2.isin(chroms4pileup)\n",
    "]\n",
    "cis_cen_pairs.reset_index(drop=True, inplace=True)\n",
    "\n",
    "cis_cen_pairs.head()\n",
    "\n",
    "print(len(cis_cen_pairs))"
   ]
  },
  {
   "cell_type": "code",
   "execution_count": null,
   "metadata": {
    "ExecuteTime": {
     "end_time": "2018-12-14T06:08:44.703253Z",
     "start_time": "2018-12-14T06:08:25.576605Z"
    },
    "scrolled": true
   },
   "outputs": [],
   "source": [
    "cis_cen_pileup_dict = {}\n",
    "\n",
    "import pathlib\n",
    "    for p in pathlib.Path(cool_files).glob('*.cool'):\n",
    "    sample = p.name.split('.')[0]\n",
    "    print(sample, '...')\n",
    "    c = cooler.Cooler(p.as_posix())\n",
    "    snipper = snipping.CoolerSnipper(c)\n",
    "    cis_cen_pile = snipping.pileup( \n",
    "        cis_cen_pairs, \n",
    "        snipper.select, snipper.snip)\n",
    "      \n",
    "    # mirror reflect snippets whose feature is on the opposite strand\n",
    "    mask = np.array(cens.strand == '+', dtype=bool)\n",
    "    cis_cen_pile[:, :, mask] =  cis_cen_pile[::-1, ::-1, mask]\n",
    "    \n",
    "    cis_cen_pileup_dict[sample] = np.nanmean(cis_cen_pile, axis=2)\n"
   ]
  },
  {
   "cell_type": "code",
   "execution_count": null,
   "metadata": {
    "ExecuteTime": {
     "end_time": "2018-12-14T06:08:55.735922Z",
     "start_time": "2018-12-14T06:08:55.727417Z"
    }
   },
   "outputs": [],
   "source": [
    "def plot_pileup_ratios(pileup_dict, use_log2=False, hm_kwargs={}):\n",
    "    \n",
    "    vmin=hm_kwargs.get('vmin',-1.5)\n",
    "    vmax=hm_kwargs.get('vmax',1.5)\n",
    "    for i, dataset_pair in enumerate([\n",
    "    for i, dataset_pair in enumerate([\n",
    "         ('long_name_A', 'long_name_B'),\n",
    "           \n",
    "        ]):\n",
    "\n",
    "        if dataset_pair[0] is None:\n",
    "            continue\n",
    "        \n",
    "        ratio_hm = pileup_dict[dataset_pair[0]]/pileup_dict[dataset_pair[1]]\n",
    "        print('max log2', np.log2(np.max(ratio_hm[np.isfinite(ratio_hm)])),\n",
    "              'min log2', np.log2(np.min(ratio_hm[np.isfinite(ratio_hm)])))\n",
    "        log_ratio_hm = np.log2(ratio_hm) if use_log2 else np.log10(ratio_hm)\n",
    "        \n",
    "        plt.figure(figsize=(8, 8))\n",
    "\n",
    "        heatplot = plt.imshow(\n",
    "            log_ratio_hm,\n",
    "            extent=[-flank//1000, flank//1000, -flank//1000, flank//1000],\n",
    "            cmap=plt.cm.get_cmap('coolwarm'),\n",
    "            interpolation='none',\n",
    "            vmin=vmin,\n",
    "            vmax=vmax)\n",
    "\n",
    "        plt.title('{} / {}'.format(shortnames[dataset_pair[0]],shortnames[dataset_pair[1]]))   \n",
    "       \n",
    "        cb = plt.colorbar(heatplot, fraction=0.1,  ticks=[vmin, 0, vmax]) \n",
    "        plt.grid(False)\n",
    "        plt.savefig('{}.{}.flank{}kb.bin{}kb.log2.Ratio.Pileup.png'.format(shortnames[dataset_pair[0]],shortnames[dataset_pair[1]], flank//1000, binsize//1000))\n",
    "        \n",
    "    cb.set_label(('log2' if use_log2 else 'log10') + ' ratio')\n"
   ]
  },
  {
   "cell_type": "code",
   "execution_count": null,
   "metadata": {
    "ExecuteTime": {
     "end_time": "2018-12-14T06:09:13.678584Z",
     "start_time": "2018-12-14T06:09:13.483763Z"
    }
   },
   "outputs": [],
   "source": [
    "plot_pileup_ratios(\n",
    "    cis_cen_pileup_dict,\n",
    "    use_log2=True,\n",
    "    hm_kwargs = dict(vmin=-1.5, vmax=1.5))\n"
   ]
  }
 ],
 "metadata": {
  "gist": {
   "data": {
    "description": "Yeast dCohesin Hi-C, fig6",
    "public": true
   },
   "id": ""
  },
  "kernelspec": {
   "display_name": "Python 2",
   "language": "python",
   "name": "python2"
  },
  "language_info": {
   "codemirror_mode": {
    "name": "ipython",
    "version": 2
   },
   "file_extension": ".py",
   "mimetype": "text/x-python",
   "name": "python",
   "nbconvert_exporter": "python",
   "pygments_lexer": "ipython2",
   "version": "2.7.15"
  },
  "nav_menu": {},
  "toc": {
   "navigate_menu": true,
   "number_sections": true,
   "sideBar": true,
   "threshold": 6,
   "toc_cell": true,
   "toc_section_display": "block",
   "toc_window_display": true
  }
 },
 "nbformat": 4,
 "nbformat_minor": 2
}
