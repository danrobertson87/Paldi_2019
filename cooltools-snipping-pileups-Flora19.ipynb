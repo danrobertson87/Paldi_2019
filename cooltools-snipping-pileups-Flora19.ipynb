{
 "cells": [
  {
   "cell_type": "markdown",
   "metadata": {},
   "source": [
    "# Pileups at Centromeres"
   ]
  },
  {
   "cell_type": "code",
   "execution_count": null,
   "metadata": {
    "ExecuteTime": {
     "end_time": "2018-05-08T02:27:20.179659Z",
     "start_time": "2018-05-08T02:27:20.165603Z"
    }
   },
   "outputs": [],
   "source": [
    "%matplotlib inline\n",
    "from matplotlib.gridspec import GridSpec\n",
    "import matplotlib.pyplot as plt\n",
    "import matplotlib as mpl\n",
    "import seaborn as sns\n",
    "mpl.style.use('seaborn-white')\n",
    "import multiprocess as mp\n",
    "import numpy as np\n",
    "import pandas as pd\n",
    "import bioframe\n",
    "import cooltools\n",
    "import cooler"
   ]
  },
  {
   "cell_type": "code",
   "execution_count": null,
   "metadata": {},
   "outputs": [],
   "source": [
    "#INPUTs\n",
    "\n",
    "# Chromosome sizes file (chrom length)\n",
    "chromsizesfile = 'PATH_TO/chrom.sizes.file'\n",
    "# Sites of interest BED (chrom start end strand)\n",
    "centromeresfile = 'PATH_TO/centromere.bed.file'\n",
    "# Bin size\n",
    "binsize = 1000\n",
    "# Flank size\n",
    "flank = 10000\n",
    "\n",
    "conditions = ['A', 'B', 'C']\n",
    "\n",
    "cooler_paths = {\n",
    "    'A' : 'PATH_TO/A.cool',\n",
    "    'B' : 'PATH_TO/B.cool',\n",
    "    'C' : 'PATH_TO/C.cool',\n",
    "}\n",
    "\n",
    "long_names = {\n",
    "    'A': 'long_name_A',\n",
    "    'B': 'long_name_B',\n",
    "    'C': 'long_name_C',\n",
    "}"
   ]
  },
  {
   "cell_type": "code",
   "execution_count": null,
   "metadata": {},
   "outputs": [],
   "source": [
    "# add fall colormap\n",
    "\n",
    "def listToColormap(colorList, cmapName=None):\n",
    "    colorList = np.array(colorList)\n",
    "    if colorList.min() < 0:\n",
    "        raise ValueError(\"Colors should be 0 to 1, or 0 to 255\")\n",
    "    if colorList.max() > 1.:\n",
    "        if colorList.max() > 255:\n",
    "            raise ValueError(\"Colors should be 0 to 1 or 0 to 255\")\n",
    "        else:\n",
    "            colorList = colorList / 255.\n",
    "    return mpl.colors.LinearSegmentedColormap.from_list(cmapName, colorList, 256)\n",
    "\n",
    "fallList = [\n",
    "     (255, 255, 255), (255, 255, 204),\n",
    "     (255, 237, 160), (254, 217, 118),\n",
    "     (254, 178, 76), (253, 141, 60),\n",
    "     (252, 78, 42), (227, 26, 28),\n",
    "     (189, 0, 38), (128, 0, 38), (0, 0, 0)]\n",
    "\n",
    "\n",
    "def registerList(mylist, name):\n",
    "    mymap = listToColormap(mylist, name)\n",
    "    mymapR = listToColormap(mylist[::-1], name + \"_r\")\n",
    "    mymapR.set_bad('white',1.)\n",
    "    mymap.set_bad('white',1.)\n",
    "    mpl.cm.register_cmap(name, mymap)\n",
    "    mpl.cm.register_cmap(name + \"_r\", mymapR)\n",
    "\n",
    "registerList(fallList, \"fall\")\n",
    "\n",
    "coolwarm = mpl.cm.coolwarm\n",
    "coolwarm.set_bad('white',1.)\n",
    "mpl.cm.register_cmap('coolwarm', coolwarm)"
   ]
  },
  {
   "cell_type": "code",
   "execution_count": null,
   "metadata": {
    "ExecuteTime": {
     "end_time": "2018-05-08T02:27:12.489464Z",
     "start_time": "2018-05-08T02:27:12.129215Z"
    }
   },
   "outputs": [],
   "source": [
    "#load chrom sizes\n",
    "chromsizes = cooler.util.read_chromsizes(\n",
    "    chromsizesfile, \n",
    "    name_patterns=(r'^chr[IVX]+$', r'chrMito$'))\n",
    "chromsizes\n",
    "chromosomes = list(chromsizes.index)\n",
    "chromosomes"
   ]
  },
  {
   "cell_type": "code",
   "execution_count": null,
   "metadata": {
    "ExecuteTime": {
     "end_time": "2018-05-08T02:28:21.018661Z",
     "start_time": "2018-05-08T02:28:21.000317Z"
    }
   },
   "outputs": [],
   "source": [
    "pal = sns.color_palette('colorblind')\n",
    "\n",
    "clrs = {\n",
    "    cond: cooler.Cooler(cooler_paths[cond]) for cond in conditions\n",
    "}"
   ]
  },
  {
   "cell_type": "markdown",
   "metadata": {},
   "source": [
    "## Pileup"
   ]
  },
  {
   "cell_type": "code",
   "execution_count": null,
   "metadata": {
    "ExecuteTime": {
     "end_time": "2018-05-08T02:28:21.345151Z",
     "start_time": "2018-05-08T02:28:21.342586Z"
    }
   },
   "outputs": [],
   "source": [
    "from cooltools import snipping"
   ]
  },
  {
   "cell_type": "code",
   "execution_count": null,
   "metadata": {
    "ExecuteTime": {
     "end_time": "2018-05-08T02:28:21.668278Z",
     "start_time": "2018-05-08T02:28:21.521844Z"
    }
   },
   "outputs": [],
   "source": [
    "# site of interest\n",
    "sites = pd.read_table(centromeresfile)\n",
    "\n",
    "sites.head()"
   ]
  },
  {
   "cell_type": "code",
   "execution_count": null,
   "metadata": {
    "ExecuteTime": {
     "end_time": "2018-05-08T02:28:22.060162Z",
     "start_time": "2018-05-08T02:28:21.935484Z"
    }
   },
   "outputs": [],
   "source": [
    "supports = [(chrom, 0, chromsizes[chrom]) for chrom in chromosomes]\n",
    "\n",
    "cens = snipping.make_bin_aligned_windows(\n",
    "    binsize, \n",
    "    sites['chrom'], \n",
    "    (sites['start'] + sites['end'])//2,\n",
    "    flank_bp=flank)\n",
    "cens['strand'] = sites['strand']\n",
    "cens = snipping.assign_regions(cens, supports)\n",
    "cens = cens.dropna()\n",
    "\n",
    "print(len(cens), 'cen windows, after assigning supports')\n",
    "cens.head()"
   ]
  },
  {
   "cell_type": "code",
   "execution_count": null,
   "metadata": {
    "ExecuteTime": {
     "end_time": "2018-05-08T02:29:14.972258Z",
     "start_time": "2018-05-08T02:28:22.229994Z"
    }
   },
   "outputs": [],
   "source": [
    "stacks = {}\n",
    "piles = {}\n",
    "for cond in conditions:\n",
    "    snipper = snipping.CoolerSnipper(clrs[cond])\n",
    "    \n",
    "    stack = snipping.pileup(cens, snipper.select, snipper.snip)\n",
    "    \n",
    "    # mirror reflect snippets whose feature is on the opposite strand\n",
    "    mask = np.array(cens.strand == '-', dtype=bool)\n",
    "    stack[:, :, mask] = stack[::-1, ::-1, mask]\n",
    "    \n",
    "    stacks[cond] = stack\n",
    "    piles[cond] = np.nanmean(stack, axis=2)"
   ]
  },
  {
   "cell_type": "code",
   "execution_count": null,
   "metadata": {
    "ExecuteTime": {
     "end_time": "2018-05-08T02:29:15.391667Z",
     "start_time": "2018-05-08T02:29:14.974518Z"
    },
    "scrolled": true
   },
   "outputs": [],
   "source": [
    "gs = GridSpec(nrows=1, ncols=len(conditions) + 1, width_ratios=[20] * len(conditions) + [1])\n",
    "plt.figure(figsize=(5 * len(conditions), 5))\n",
    "\n",
    "opts = dict(\n",
    "    vmin=-3,\n",
    "    vmax=-1,\n",
    "    extent=[-flank//1000, flank//1000, -flank//1000, flank//1000],\n",
    "    cmap='fall'\n",
    ")\n",
    "\n",
    "for i, cond in enumerate(conditions):\n",
    "    ax = plt.subplot(gs[i])\n",
    "    img = ax.matshow(\n",
    "        np.log10(piles[cond]),\n",
    "        **opts)\n",
    "    ax.xaxis.tick_bottom()\n",
    "    if i > 0:\n",
    "        ax.yaxis.set_visible(False)\n",
    "    plt.title(long_names[cond])\n",
    "\n",
    "ax = plt.subplot(gs[len(conditions)])\n",
    "plt.colorbar(img, cax=ax)"
   ]
  },
  {
   "cell_type": "code",
   "execution_count": null,
   "metadata": {},
   "outputs": [],
   "source": [
    "for i, cond in enumerate(conditions):\n",
    "\n",
    "    plt.figure(figsize=(8, 8))\n",
    "    plt.imshow(\n",
    "        np.log10(piles[cond]),\n",
    "        **opts)\n",
    "\n",
    "    plt.title('{}_Cens'.format(long_names[cond]))\n",
    "    plt.colorbar()\n",
    "    plt.savefig('{}.flank{}kb.bin{}kb.log10.Obs.Cen_Pileup.png'.format(long_names[cond], flank//1000, binsize//1000))\n",
    "    "
   ]
  }
 ],
 "metadata": {
  "kernelspec": {
   "display_name": "Python 2",
   "language": "python",
   "name": "python2"
  },
  "language_info": {
   "codemirror_mode": {
    "name": "ipython",
    "version": 2
   },
   "file_extension": ".py",
   "mimetype": "text/x-python",
   "name": "python",
   "nbconvert_exporter": "python",
   "pygments_lexer": "ipython2",
   "version": "2.7.15"
  },
  "toc": {
   "nav_menu": {},
   "number_sections": true,
   "sideBar": true,
   "skip_h1_title": false,
   "toc_cell": false,
   "toc_position": {},
   "toc_section_display": "block",
   "toc_window_display": false
  }
 },
 "nbformat": 4,
 "nbformat_minor": 2
}
